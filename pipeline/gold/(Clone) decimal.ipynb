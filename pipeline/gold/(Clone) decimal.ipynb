{
 "cells": [
  {
   "cell_type": "code",
   "execution_count": 0,
   "metadata": {
    "application/vnd.databricks.v1+cell": {
     "cellMetadata": {
      "byteLimit": 2048000,
      "implicitDf": true,
      "rowLimit": 10000
     },
     "inputWidgets": {},
     "nuid": "e0df05cc-9900-4114-8e6d-d6f463968a6f",
     "showTitle": false,
     "tableResultSettingsMap": {},
     "title": ""
    }
   },
   "outputs": [],
   "source": [
    "%sql\n",
    "CREATE VIEW lakehouse.gold.mostvaluableclient_v3 AS\n",
    "SELECT\n",
    "  customer_sk,\n",
    "  COUNT(*) AS total_transacoes,\n",
    "  ROUND(SUM(gross_value), 2) AS valor_total,\n",
    "  ROUND(AVG(gross_value), 2) AS ticket_medio,\n",
    "  MIN(data_hora) AS primeira_transacao,\n",
    "  MAX(data_hora) AS ultima_transacao,\n",
    "  COUNT(CASE \n",
    "    WHEN data_hora >= current_timestamp() - INTERVAL 30 DAYS THEN 1 \n",
    "  END) AS transacoes_ultimos_30_dias,\n",
    "  ROUND(SUM(fee_revenue), 2) AS comissao_total,\n",
    "  RANK() OVER (ORDER BY COUNT(*) DESC) AS ranking_por_transacoes,\n",
    "  CASE \n",
    "    WHEN RANK() OVER (ORDER BY COUNT(*) DESC) = 1 THEN 'Top 1'\n",
    "    WHEN RANK() OVER (ORDER BY COUNT(*) DESC) = 2 THEN 'Top 2'\n",
    "    WHEN RANK() OVER (ORDER BY COUNT(*) DESC) = 3 THEN 'Top 3'\n",
    "    ELSE 'Outros'\n",
    "  END AS classificacao_cliente,\n",
    "  current_timestamp() AS calculated_at\n",
    "FROM lakehouse.silver.fact_transaction_revenue\n",
    "GROUP BY customer_sk\n",
    "ORDER BY total_transacoes DESC;"
   ]
  }
 ],
 "metadata": {
  "application/vnd.databricks.v1+notebook": {
   "computePreferences": null,
   "dashboards": [],
   "environmentMetadata": {
    "base_environment": "",
    "environment_version": "4"
   },
   "inputWidgetPreferences": null,
   "language": "python",
   "notebookMetadata": {
    "mostRecentlyExecutedCommandWithImplicitDF": {
     "commandId": 8623275510728174,
     "dataframes": [
      "_sqldf"
     ]
    },
    "pythonIndentUnit": 4
   },
   "notebookName": "(Clone) decimal",
   "widgets": {}
  },
  "language_info": {
   "name": "python"
  }
 },
 "nbformat": 4,
 "nbformat_minor": 0
}
